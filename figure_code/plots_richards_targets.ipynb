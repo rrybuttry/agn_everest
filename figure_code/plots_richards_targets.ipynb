{
 "cells": [
  {
   "cell_type": "code",
   "execution_count": 10,
   "metadata": {},
   "outputs": [],
   "source": [
    "import numpy as np\n",
    "import pandas as pd\n",
    "from astropy.io import fits\n",
    "\n",
    "import matplotlib\n",
    "import matplotlib.pyplot as plt\n",
    "import richardsplot"
   ]
  },
  {
   "cell_type": "code",
   "execution_count": 11,
   "metadata": {},
   "outputs": [],
   "source": [
    "#from astropy.io import fits\n",
    "from astropy.table import Table\n",
    "\n",
    "filename = '/home/jackeline/Dropbox/Kepler/allofourk2targets/RichardsK2-targets.withz.fits'\n",
    "#with fits.open('/home/jackeline/Dropbox/Kepler/allofourk2targets/RichardsK2-targets.withz.fits') as data:\n",
    " #   k2_data = pandas.DataFrame(data[0].data)\n",
    "dat = Table.read(filename, format='fits')\n",
    "k2_data = dat.to_pandas()"
   ]
  },
  {
   "cell_type": "code",
   "execution_count": 12,
   "metadata": {},
   "outputs": [
    {
     "data": {
      "text/html": [
       "<div>\n",
       "<style scoped>\n",
       "    .dataframe tbody tr th:only-of-type {\n",
       "        vertical-align: middle;\n",
       "    }\n",
       "\n",
       "    .dataframe tbody tr th {\n",
       "        vertical-align: top;\n",
       "    }\n",
       "\n",
       "    .dataframe thead th {\n",
       "        text-align: right;\n",
       "    }\n",
       "</style>\n",
       "<table border=\"1\" class=\"dataframe\">\n",
       "  <thead>\n",
       "    <tr style=\"text-align: right;\">\n",
       "      <th></th>\n",
       "      <th>EPIC ID</th>\n",
       "      <th>RA (J2000) [deg]</th>\n",
       "      <th>Dec (J2000) [deg]</th>\n",
       "      <th>magnitude</th>\n",
       "      <th>Investigation IDs</th>\n",
       "      <th>ZSPEC</th>\n",
       "    </tr>\n",
       "  </thead>\n",
       "  <tbody>\n",
       "    <tr>\n",
       "      <th>0</th>\n",
       "      <td>220149324</td>\n",
       "      <td>17.044851</td>\n",
       "      <td>-1.915995</td>\n",
       "      <td>19.061001</td>\n",
       "      <td>b'GO8052_LC                              '</td>\n",
       "      <td>-1.00</td>\n",
       "    </tr>\n",
       "    <tr>\n",
       "      <th>1</th>\n",
       "      <td>220152700</td>\n",
       "      <td>16.526064</td>\n",
       "      <td>-1.797178</td>\n",
       "      <td>18.377001</td>\n",
       "      <td>b'GO8052_LC                              '</td>\n",
       "      <td>1.43</td>\n",
       "    </tr>\n",
       "    <tr>\n",
       "      <th>2</th>\n",
       "      <td>220158771</td>\n",
       "      <td>13.318088</td>\n",
       "      <td>-1.584049</td>\n",
       "      <td>18.716999</td>\n",
       "      <td>b'GO8052_LC                              '</td>\n",
       "      <td>-1.00</td>\n",
       "    </tr>\n",
       "    <tr>\n",
       "      <th>3</th>\n",
       "      <td>220159532</td>\n",
       "      <td>13.402192</td>\n",
       "      <td>-1.558220</td>\n",
       "      <td>18.583000</td>\n",
       "      <td>b'GO8052_LC                              '</td>\n",
       "      <td>-1.00</td>\n",
       "    </tr>\n",
       "    <tr>\n",
       "      <th>4</th>\n",
       "      <td>220160568</td>\n",
       "      <td>17.576305</td>\n",
       "      <td>-1.524905</td>\n",
       "      <td>18.701000</td>\n",
       "      <td>b'GO8052_LC                              '</td>\n",
       "      <td>-1.00</td>\n",
       "    </tr>\n",
       "  </tbody>\n",
       "</table>\n",
       "</div>"
      ],
      "text/plain": [
       "     EPIC ID  RA (J2000) [deg]  Dec (J2000) [deg]  magnitude  \\\n",
       "0  220149324         17.044851          -1.915995  19.061001   \n",
       "1  220152700         16.526064          -1.797178  18.377001   \n",
       "2  220158771         13.318088          -1.584049  18.716999   \n",
       "3  220159532         13.402192          -1.558220  18.583000   \n",
       "4  220160568         17.576305          -1.524905  18.701000   \n",
       "\n",
       "                            Investigation IDs  ZSPEC  \n",
       "0  b'GO8052_LC                              '  -1.00  \n",
       "1  b'GO8052_LC                              '   1.43  \n",
       "2  b'GO8052_LC                              '  -1.00  \n",
       "3  b'GO8052_LC                              '  -1.00  \n",
       "4  b'GO8052_LC                              '  -1.00  "
      ]
     },
     "execution_count": 12,
     "metadata": {},
     "output_type": "execute_result"
    }
   ],
   "source": [
    "k2_data.head(5)"
   ]
  },
  {
   "cell_type": "code",
   "execution_count": 24,
   "metadata": {},
   "outputs": [
    {
     "data": {
      "image/png": "[encoded data removed]",
      "text/plain": [
       "<Figure size 432x360 with 1 Axes>"
      ]
     },
     "metadata": {
      "needs_background": "light"
     },
     "output_type": "display_data"
    }
   ],
   "source": [
    "plt.figure(figsize=(6,5))\n",
    "plt.hist(k2_data.magnitude, bins = 40, color = \"orange\", alpha = 0.5)\n",
    "plt.xlabel('Magnitude')\n",
    "plt.ylabel('Counts')\n",
    "plt.savefig(\"/home/jackeline/Research/k2_pipeline/K2agn_mag.pdf\", dpi = 200)"
   ]
  },
  {
   "cell_type": "code",
   "execution_count": 25,
   "metadata": {},
   "outputs": [
    {
     "name": "stderr",
     "output_type": "stream",
     "text": [
      "/home/jackeline/anaconda3/envs/scope_dev/lib/python3.6/site-packages/numpy/lib/histograms.py:839: RuntimeWarning: invalid value encountered in greater_equal\n",
      "  keep = (tmp_a >= first_edge)\n",
      "/home/jackeline/anaconda3/envs/scope_dev/lib/python3.6/site-packages/numpy/lib/histograms.py:840: RuntimeWarning: invalid value encountered in less_equal\n",
      "  keep &= (tmp_a <= last_edge)\n"
     ]
    },
    {
     "data": {
      "image/png": "[encoded data removed]",
      "text/plain": [
       "<Figure size 432x360 with 1 Axes>"
      ]
     },
     "metadata": {
      "needs_background": "light"
     },
     "output_type": "display_data"
    }
   ],
   "source": [
    "plt.figure(figsize=(6,5))\n",
    "plt.hist(k2_data.ZSPEC, bins = 40, color = \"orange\", alpha = 0.5)\n",
    "plt.xlabel('Redshift')\n",
    "plt.ylabel('Counts')\n",
    "plt.savefig(\"/home/jackeline/Research/k2_pipeline/K2agn_zspec.pdf\", dpi = 200)"
   ]
  },
  {
   "cell_type": "code",
   "execution_count": null,
   "metadata": {},
   "outputs": [],
   "source": []
  }
 ],
 "metadata": {
  "kernelspec": {
   "display_name": "Python 3",
   "language": "python",
   "name": "python3"
  },
  "language_info": {
   "codemirror_mode": {
    "name": "ipython",
    "version": 3
   },
   "file_extension": ".py",
   "mimetype": "text/x-python",
   "name": "python",
   "nbconvert_exporter": "python",
   "pygments_lexer": "ipython3",
   "version": "3.6.10"
  }
 },
 "nbformat": 4,
 "nbformat_minor": 4
}
