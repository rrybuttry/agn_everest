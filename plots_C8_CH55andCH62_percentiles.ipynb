{
 "cells": [
  {
   "cell_type": "markdown",
   "metadata": {
    "jupyter": {
     "outputs_hidden": true
    }
   },
   "source": [
    "# CH55 and CH62 Mantiude Percentile lightcurves "
   ]
  },
  {
   "cell_type": "code",
   "execution_count": null,
   "metadata": {},
   "outputs": [],
   "source": [
    "from analysis import *\n",
    "import h5py\n",
    "from astropy.convolution import convolve, Box1DKernel\n",
    "import sys"
   ]
  },
  {
   "cell_type": "code",
   "execution_count": 2,
   "metadata": {
    "collapsed": true,
    "jupyter": {
     "outputs_hidden": true
    }
   },
   "outputs": [],
   "source": [
    "import richardsplot"
   ]
  },
  {
   "cell_type": "code",
   "execution_count": 3,
   "metadata": {
    "collapsed": false,
    "jupyter": {
     "outputs_hidden": false
    }
   },
   "outputs": [
    {
     "data": {
      "text/plain": [
       "17.945"
      ]
     },
     "execution_count": 3,
     "metadata": {},
     "output_type": "execute_result"
    }
   ],
   "source": [
    "campaign = 8\n",
    "\n",
    "all_targets = pd.read_csv(\"/home/jackeline/Research/k2_pipeline/K2_official_targets/K2Campaign%stargets.csv\"%campaign, skipinitialspace=True)\n",
    "#plt.hist(all_targets.magnitude.)\n",
    "epic = int(220148939)\n",
    "mag = all_targets.magnitude[all_targets['EPIC ID'] == epic].values[0]\n",
    "mag"
   ]
  },
  {
   "cell_type": "code",
   "execution_count": 7,
   "metadata": {
    "collapsed": true,
    "jupyter": {
     "outputs_hidden": true
    }
   },
   "outputs": [],
   "source": [
    "def chLC(channel):\n",
    "    campaign = 8\n",
    "    mod,submod = get_submod(channel)\n",
    "    submod-=1 # submods are 0-3 in the hdf5 file\n",
    "\n",
    "    #hdf5_file = \"/Users/rachelbuttry/K2/K2C%s_target_pixels.hdf5\"%campaign\n",
    "    hdf5_file = \"/home/jackeline/Research/k2_pipeline/k2_LongTermSystematics/data/pixelmaps/k2pixelmap.hdf5\"\n",
    "\n",
    "    # there are 23117 objects in the campaign 8 hdf5 file\n",
    "    # there are 3853 cadence points in c8\n",
    "    cadences = 3853\n",
    "    time = np.arange(cadences)/48.0\n",
    "\n",
    "    with h5py.File(hdf5_file, 'r') as f:\n",
    "        channel_epics = np.array(list(f['%s/%s/%s'%(campaign, mod,submod)].keys()))# look at objects in given channel).astype(int)\n",
    "\n",
    "        # need the kepler magnitudes\n",
    "        #all_targets = pd.read_csv(\"./K2_official_targets/K2Campaign%stargets.csv\"%campaign, skipinitialspace=True)\n",
    "    all_targets = pd.read_csv(\"/home/jackeline/Research/k2_pipeline/K2_official_targets/K2Campaign%stargets.csv\"%campaign, skipinitialspace=True)\n",
    "\n",
    "\n",
    "    # saving lcs to take the median\n",
    "    arr = []\n",
    "    arrmu = []\n",
    "    arrmuF = []\n",
    "\n",
    "    with h5py.File(hdf5_file, 'r') as f:\n",
    "        channel_epics = np.array(list(f['%s/%s/%s'%(campaign, mod, submod)].keys()))# look at objects in given channel).astype(int)\n",
    "\n",
    "        #rel_epics = channel_epics[np.isin(channel_epics, all_targets['EPIC ID'][np.logical_and(all_targets['magnitude'] > 13, all_targets['magnitude'] < 20)])]\n",
    "        rel_epics = channel_epics[np.isin(channel_epics, all_targets['EPIC ID'][np.logical_and(all_targets['magnitude'] > 13, all_targets['magnitude'] < 100)])]\n",
    "\n",
    "            #print(len(rel_epics))\n",
    "\n",
    "        # loop thru the objects\n",
    "        for epic in rel_epics:\n",
    "            #print(epic)\n",
    "\n",
    "            d = np.array(f['%s/%s/%s/%s'%(campaign, mod, submod, epic)]['data'])\n",
    "            mag = all_targets.magnitude[all_targets['EPIC ID'] == int(epic)].values[0]\n",
    "\n",
    "            lc_hdf5 = np.nansum(np.nansum(d, axis=1), axis=1)\n",
    "\n",
    "                # handle spurious cadences\n",
    "            lc = lk.LightCurve(time, flux=lc_hdf5)\n",
    "            _, spurious_cad = lc.flatten().remove_outliers(return_mask=True) # remove spurious cadences\n",
    "            lc_raw = lc.flux\n",
    "\n",
    "            # interpolate\n",
    "            cadno = np.arange(len(lc_raw)) # get an array to serve as our time/cadence measurement\n",
    "            interped_vals = np.interp(cadno[spurious_cad], cadno[~spurious_cad], lc_raw[~spurious_cad])\n",
    "            # replace spurious cadence values with the interpolated values\n",
    "            lc_raw[spurious_cad] = interped_vals\n",
    "            norm = np.mean(lc_raw)\n",
    "            lc_raw -= np.mean(lc_raw)\n",
    "            lc_raw = lc_raw/norm\n",
    "            #lc_raw = lc_raw/np.max(np.abs(lc_raw))\n",
    "\n",
    "            smooth = convolve(lc_raw, Box1DKernel(350), boundary='extend')\n",
    "\n",
    "            arr.append(lc_raw)\n",
    "            arrmu.append(mag)\n",
    "            arrmuF.append(norm)\n",
    "        all_targets['magnitude']\n",
    "        return arr, arrmu, arrmuF"
   ]
  },
  {
   "cell_type": "code",
   "execution_count": 10,
   "metadata": {
    "collapsed": true,
    "jupyter": {
     "outputs_hidden": true
    }
   },
   "outputs": [],
   "source": [
    "\n",
    "#get lightcurve stack for each channel\n",
    "arr55, arrmu55, arrmuF55 = chLC(55)\n",
    "arr62, arrmu62, arrmuF62 = chLC(62)"
   ]
  },
  {
   "cell_type": "code",
   "execution_count": 11,
   "metadata": {
    "collapsed": false,
    "jupyter": {
     "outputs_hidden": false
    }
   },
   "outputs": [
    {
     "data": {
      "text/plain": [
       "[827.0845,\n",
       " 11513.188,\n",
       " 85824.266,\n",
       " 765.8365,\n",
       " 1816.3865,\n",
       " 85524.28,\n",
       " 42080.14,\n",
       " 37128.15,\n",
       " 5132.139,\n",
       " 73826.62,\n",
       " 15840.984,\n",
       " 47350.715,\n",
       " 62996.348,\n",
       " 2510.013,\n",
       " 77913.55,\n",
       " 12746.072,\n",
       " 6403.5527,\n",
       " 13520.434,\n",
       " 5972.742,\n",
       " 2904.3398,\n",
       " 50438.96,\n",
       " 85117.984,\n",
       " 89782.78,\n",
       " 48065.76,\n",
       " 5658.9204,\n",
       " 9983.112,\n",
       " 12365.496,\n",
       " 21041.79,\n",
       " 4918.101,\n",
       " 935.76483,\n",
       " 2572.4126,\n",
       " 16846.258,\n",
       " 17792.89,\n",
       " 2804.127,\n",
       " 55570.293,\n",
       " 7259.731,\n",
       " 655.2071,\n",
       " 60947.273,\n",
       " 6804.2563,\n",
       " 3695.6023,\n",
       " 1114.7207,\n",
       " 56441.77,\n",
       " 3712.336,\n",
       " 5627.2256,\n",
       " 44880.32,\n",
       " 73455.76,\n",
       " 2389.28,\n",
       " 5780.9287,\n",
       " 768.2288,\n",
       " 61642.11,\n",
       " 3894.8047,\n",
       " 2491.9114,\n",
       " 54602.133,\n",
       " 26870.096,\n",
       " 3105.5376,\n",
       " 51352.516,\n",
       " 668.7634,\n",
       " 75271.914,\n",
       " 4725.3555,\n",
       " 4077.9343,\n",
       " 67563.63,\n",
       " 13009.601,\n",
       " 78807.31,\n",
       " 1401.8678,\n",
       " 70488.016,\n",
       " 2961.6243,\n",
       " 60022.35,\n",
       " 40779.703,\n",
       " 1708.9368,\n",
       " 982.2147,\n",
       " 1138.833,\n",
       " 1126.7446,\n",
       " 42711.445,\n",
       " 3352.1113,\n",
       " 63862.516,\n",
       " 27030.611,\n",
       " 365.14847,\n",
       " 50572.598,\n",
       " 51641.133,\n",
       " 1116.9628,\n",
       " 455.09604,\n",
       " 1661.3497,\n",
       " 106609.5,\n",
       " 2443.744,\n",
       " 32959.9,\n",
       " 7858.4126,\n",
       " 1632.3265,\n",
       " 50647.12,\n",
       " 3811.8152,\n",
       " 3185.7292,\n",
       " 6437.449,\n",
       " 190685.05,\n",
       " 46646.906,\n",
       " 5040.204,\n",
       " 5769.626,\n",
       " 32127.309,\n",
       " 7876.867,\n",
       " 68998.08,\n",
       " 313.27628,\n",
       " 1942.1125,\n",
       " 9264.386,\n",
       " 642.984,\n",
       " 49992.14,\n",
       " 34098.42,\n",
       " 2319.0715,\n",
       " 50106.13,\n",
       " 4281.4985,\n",
       " 50860.1,\n",
       " 3760.9678,\n",
       " 45646.95,\n",
       " 691.6141,\n",
       " 9418.616,\n",
       " 7210.356,\n",
       " 15953.422,\n",
       " 61107.3,\n",
       " 14877.691,\n",
       " 2137.9502,\n",
       " 7126.2236,\n",
       " 281.5318,\n",
       " 2104.3306,\n",
       " 791.17957,\n",
       " 52342.67,\n",
       " 46617.86,\n",
       " 2808.3306,\n",
       " 57690.68,\n",
       " 303531.0,\n",
       " 18484.248,\n",
       " 769.65857,\n",
       " 21744.457,\n",
       " 36601.023,\n",
       " 6563.5547,\n",
       " 8736.415,\n",
       " 2458.3093,\n",
       " 1552.1525,\n",
       " 31530.506,\n",
       " 7289.3774,\n",
       " 11358.746,\n",
       " 2261.5046,\n",
       " 40621.96,\n",
       " 5160.0747,\n",
       " 5752.658,\n",
       " 3967.5154,\n",
       " 84638.45,\n",
       " 594.3056,\n",
       " 1151.4135,\n",
       " 2665.156,\n",
       " 5760.7793,\n",
       " 2179.9543,\n",
       " 83010.08,\n",
       " 891.7241,\n",
       " 14817.277,\n",
       " 6823.8804,\n",
       " 63039.055,\n",
       " 3040.0537,\n",
       " 10619.513,\n",
       " 78686.49,\n",
       " 20456.809,\n",
       " 6907.888,\n",
       " 82423.664,\n",
       " 46939.176,\n",
       " 15260.541,\n",
       " 568.97125,\n",
       " 3935.3406,\n",
       " 3332.7463,\n",
       " 7166.9976,\n",
       " 968.7017,\n",
       " 4301.6167,\n",
       " 2146.1548,\n",
       " 1877.2268,\n",
       " 6234.748,\n",
       " 7529.1743,\n",
       " 8009.9204,\n",
       " 7614.851,\n",
       " 1334.7633,\n",
       " 12131.055,\n",
       " 12124.987,\n",
       " 7240.381,\n",
       " 8708.366,\n",
       " 10606.127,\n",
       " 35984.652,\n",
       " 7599.4893,\n",
       " 1996.4279,\n",
       " 10767.25,\n",
       " 45473.957,\n",
       " 18593.184,\n",
       " 6506.8716,\n",
       " 46737.023,\n",
       " 6059.9834,\n",
       " 3585.0332,\n",
       " 332.41437,\n",
       " 980.795,\n",
       " 8844.396]"
      ]
     },
     "execution_count": 11,
     "metadata": {},
     "output_type": "execute_result"
    }
   ],
   "source": [
    "arrmuF62"
   ]
  },
  {
   "cell_type": "code",
   "execution_count": 13,
   "metadata": {
    "collapsed": false,
    "jupyter": {
     "outputs_hidden": false
    }
   },
   "outputs": [
    {
     "name": "stdout",
     "output_type": "stream",
     "text": [
      "ch5\n",
      "18.388199999999998\n",
      "79365.24257812499\n",
      "18.1192\n",
      "64920.434375\n",
      "17.7928\n",
      "59368.564062499994\n",
      "16.99625\n",
      "43509.7021484375\n",
      "15.576\n",
      "8052.4794921875\n",
      "14.014750000000001\n",
      "2205.8287963867188\n",
      "13.551449999999999\n",
      "1186.4333557128907\n",
      "ch62\n",
      "18.4771\n",
      "80434.67070312495\n",
      "17.927100000000003\n",
      "63780.16953125\n",
      "17.5273\n",
      "54940.988867187494\n",
      "16.78075\n",
      "43253.6640625\n",
      "15.69\n",
      "7409.27587890625\n",
      "13.928000000000003\n",
      "2641.9701538085938\n",
      "13.541900000000002\n",
      "1604.2656127929686\n"
     ]
    },
    {
     "data": {
      "image/png": "[encoded data removed]",
      "text/plain": [
       "<Figure size 720x360 with 2 Axes>"
      ]
     },
     "metadata": {
      "needs_background": "light"
     },
     "output_type": "display_data"
    }
   ],
   "source": [
    "\n",
    "\n",
    "\n",
    "#colors for percentile lightcurves\n",
    "cmap = plt.get_cmap('inferno')\n",
    "mag_colors = np.zeros((len(cmap.colors),4))\n",
    "mag_colors[:,3] = 0.7 #this is the alpha parameter\n",
    "mag_colors[:,:3] = cmap.colors\n",
    "    \n",
    "cadences = 3853\n",
    "time = np.arange(cadences)/48.0   \n",
    "    \n",
    "f, [ax1,ax2] = plt.subplots(1,2,figsize=(10,5), sharey = True)\n",
    "print(\"ch5\")    \n",
    "\n",
    "zz = 10\n",
    "#channel55 plot\n",
    "for p in [5, 10,15, 25, 50, 75, 85]:\n",
    "    flux = np.percentile(np.atleast_2d(np.array(arr55)),p, axis=0)\n",
    "    mu55 = np.percentile(arrmu55, 100-p)\n",
    "    print(mu55)\n",
    "    print(np.percentile(arrmuF55, 100-p))\n",
    "\n",
    "    flux_smooth = convolve(flux, Box1DKernel(250), boundary='extend')\n",
    "    ax1.plot(time, flux_smooth-flux_smooth.mean(), linewidth=5, color =mag_colors[zz*2], label =  \"{:.1f}\".format(mu55)) \n",
    "    zz +=15\n",
    "    \n",
    "print(\"ch62\")    \n",
    "zz = 10\n",
    "#channel 62 plot\n",
    "for p in [5, 10,15, 25, 50, 75, 85]:\n",
    "    flux = np.percentile(np.atleast_2d(np.array(arr62)),p, axis=0)\n",
    "    flux_smooth = convolve(flux, Box1DKernel(250), boundary='extend')\n",
    "    mu62 = np.percentile(arrmu62, 100-p)\n",
    "    print(mu62)\n",
    "    print(np.percentile(arrmuF62, 100-p))\n",
    "    #muMag = keplerflux_to_keplermag(mu62)\n",
    "    ax2.plot(time, flux_smooth-flux_smooth.mean(), linewidth=5, color =mag_colors[zz*2] , label = \"{:.1f}\".format(mu62))\n",
    "    zz +=15 \n",
    "\n",
    "\n",
    "ax1.set_title( \"CH55\", fontsize = 30)\n",
    "ax2.set_title( \"CH62\", fontsize = 30)\n",
    "\n",
    "ax1.set_xlim(np.min(time), np.max(time))\n",
    "ax1.set_xlabel(\"time (days)\", fontsize = 20)\n",
    "ax2.set_xlabel(\"time (days)\", fontsize = 20)\n",
    "ax1.set_ylabel(r\"Fractional Change\", fontsize = 20)\n",
    "#ax2.legend(fontsize = 16, handlelength = 1)\n",
    "ax1.legend( handlelength = 1, fontsize=18, bbox_to_anchor=(1.0, 1.02), edgecolor='k', loc=2, labelspacing=0.45)\n",
    "\n",
    "\n",
    "plt.tight_layout()\n",
    "#plt.savefig(\"/home/jackeline/Research/k2_pipeline/k2_paperFigures/fig10.pdf\",dpi = 200 ,transparent=False)"
   ]
  },
  {
   "cell_type": "code",
   "execution_count": null,
   "metadata": {
    "collapsed": true,
    "jupyter": {
     "outputs_hidden": true
    }
   },
   "outputs": [],
   "source": []
  }
 ],
 "metadata": {
  "kernelspec": {
   "display_name": "Python 3",
   "language": "python",
   "name": "python3"
  },
  "language_info": {
   "codemirror_mode": {
    "name": "ipython",
    "version": 3
   },
   "file_extension": ".py",
   "mimetype": "text/x-python",
   "name": "python",
   "nbconvert_exporter": "python",
   "pygments_lexer": "ipython3",
   "version": "3.6.10"
  }
 },
 "nbformat": 4,
 "nbformat_minor": 4
}
