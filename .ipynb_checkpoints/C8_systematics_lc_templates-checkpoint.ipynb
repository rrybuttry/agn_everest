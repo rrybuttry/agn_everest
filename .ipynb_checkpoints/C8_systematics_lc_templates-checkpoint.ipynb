{
 "cells": [
  {
   "cell_type": "code",
   "execution_count": null,
   "metadata": {},
   "outputs": [],
   "source": [
    "import pandas as pd\n",
    "import numpy as np\n",
    "import matplotlib.pyplot as plt\n",
    "import matplotlib\n",
    "%matplotlib inline\n",
    "\n",
    "import richardsplot as rplot\n",
    "\n",
    "from analysis import *"
   ]
  },
  {
   "cell_type": "markdown",
   "metadata": {},
   "source": [
    "# We preview K2 long term systematics as a function of channel and magnitude"
   ]
  },
  {
   "cell_type": "code",
   "execution_count": null,
   "metadata": {},
   "outputs": [],
   "source": [
    "#import systematics lc data frame\n",
    "all_channels_df = pd.read_pickle(\"../template_lcs/k2_c08_CCD_systematics.pkl\")"
   ]
  },
  {
   "cell_type": "markdown",
   "metadata": {},
   "source": [
    "# Using the dataframe\n",
    "\n",
    "Lets say our kepler AGN is a 19.8 magnitude and on channel 22"
   ]
  },
  {
   "cell_type": "code",
   "execution_count": null,
   "metadata": {},
   "outputs": [],
   "source": [
    "mag = 19.8\n",
    "channel = 22\n",
    "#find all templates on that ccd channel\n",
    "channelMask = (all_channels_df.channel == channel)\n",
    "#pick the template lc that is closest in magnitude to our target on that specific channel\n",
    "magnitudeMask = (np.abs(all_channels_df[channelMask].magnitude-mag)).idxmin()"
   ]
  },
  {
   "cell_type": "code",
   "execution_count": null,
   "metadata": {},
   "outputs": [],
   "source": [
    "#pull that row for from the dataframe, the template is stored in a row, rather than a column\n",
    "row = all_channels_df.iloc[magnitudeMask]\n",
    "#preview the row contents\n",
    "row"
   ]
  },
  {
   "cell_type": "code",
   "execution_count": null,
   "metadata": {},
   "outputs": [],
   "source": [
    "#pull the full template lc out of the row, ignore the last four columns\n",
    "systematics_lc = row[:-4].values"
   ]
  },
  {
   "cell_type": "code",
   "execution_count": null,
   "metadata": {},
   "outputs": [],
   "source": [
    "#preview the template lightcurve\n",
    "plt.plot(systematics_lc, color = \"orange\")"
   ]
  },
  {
   "cell_type": "markdown",
   "metadata": {},
   "source": [
    "## Preview the whole channel as a function of magnitude"
   ]
  },
  {
   "cell_type": "code",
   "execution_count": null,
   "metadata": {},
   "outputs": [],
   "source": [
    "cmap = plt.get_cmap('inferno')\n",
    "mag_colors = np.zeros((len(cmap.colors),4))\n",
    "mag_colors[:,3] = 0.5 #this is the alpha parameter\n",
    "mag_colors[:,:3] = cmap.colors\n",
    "\n",
    "\n",
    "\n",
    "j = 0\n",
    "for i in range(0,99, 1):\n",
    "    row = all_channels_df[channelMask].iloc[i]\n",
    "    systematics_lc = row[:-4].values\n",
    "    plt.plot(systematics_lc, color =mag_colors[j*2] , zorder = 99-i)\n",
    "    j +=1\n",
    "#plt.plot(xrange(len(lc_med[:,-2])),lc_med[:,-2], label = \"{:3.1f}\".format(mag_med_bin_edges[-2]), alpha = 0.8) \n",
    "    \n",
    "plt.xlabel(\"Epoch Index\")\n",
    "plt.ylabel(\"Normalized Flux\")\n",
    "\n",
    "plt.tight_layout()"
   ]
  },
  {
   "cell_type": "markdown",
   "metadata": {},
   "source": [
    "---\n",
    "### Calculating the power spectrum densities of the template light curves (around 19th magnitude)\n",
    "\n",
    "We want to know if the systematics look like a DRM in their PSDs."
   ]
  },
  {
   "cell_type": "code",
   "execution_count": null,
   "metadata": {},
   "outputs": [],
   "source": [
    "from analysis import *"
   ]
  },
  {
   "cell_type": "code",
   "execution_count": null,
   "metadata": {},
   "outputs": [],
   "source": [
    "mag = 19.0\n",
    "channel = 22\n",
    "#find all templates on that ccd channel\n",
    "channelMask = (all_channels_df.channel == channel)\n",
    "#pick the template lc that is closest in magnitude to our target on that specific channel\n",
    "magnitudeMask = (np.abs(all_channels_df[channelMask].magnitude-mag)).idxmin()\n",
    "\n",
    "\n",
    "temp_flux = np.array(all_channels_df.iloc[magnitudeMask][:-4])\n",
    "temp_time = np.arange(len(temp_flux))/48.0 # converting to days, starting at zero"
   ]
  },
  {
   "cell_type": "code",
   "execution_count": null,
   "metadata": {},
   "outputs": [],
   "source": [
    "fig, ax = plt.subplots(1,2, figsize=(18,6))\n",
    "plot_lc_PSD(temp_time, temp_flux, ax[0], ax[1], f=k2_freq)"
   ]
  },
  {
   "cell_type": "markdown",
   "metadata": {},
   "source": [
    "Well... That looks like a damped random walk. (Note: the x-label for the light curve is incorrect, the function was written to take time as days for plotting K2 light curves)\n",
    "\n",
    "Let's try it for other channels!"
   ]
  },
  {
   "cell_type": "code",
   "execution_count": null,
   "metadata": {},
   "outputs": [],
   "source": [
    "# get all the active channels\n",
    "df = pd.read_csv('object_keys/c8_shaya.csv')\n",
    "active_ch = np.unique(np.array(df['CHANNEL']))\n",
    "active_ch = active_ch[active_ch.argsort()] # sort "
   ]
  },
  {
   "cell_type": "code",
   "execution_count": null,
   "metadata": {},
   "outputs": [],
   "source": []
  },
  {
   "cell_type": "code",
   "execution_count": null,
   "metadata": {},
   "outputs": [],
   "source": [
    "mag = 29.0\n",
    "\n",
    "for ch in active_ch:\n",
    "    #find all templates on that ccd channel\n",
    "    channelMask = (all_channels_df.channel == ch)\n",
    "    #pick the template lc that is closest in magnitude to our target on that specific channel\n",
    "    magnitudeMask = (np.abs(all_channels_df[channelMask].magnitude-mag)).idxmin()\n",
    "    \n",
    "    # get the faintest magnitude we \n",
    "    #magnitudeMask = \n",
    "\n",
    "    temp_flux = np.array(all_channels_df.iloc[magnitudeMask][:-4])\n",
    "    temp_time = np.arange(len(temp_flux))/48.0 # converting to days, starting at zero\n",
    "    fig, ax = plt.subplots(1,2, figsize=(9,3))\n",
    "    plot_lc_PSD(temp_time, temp_flux, ax[0], ax[1], f=k2_freq)\n",
    "    fig.suptitle(\"Channel %s\"%ch)"
   ]
  },
  {
   "cell_type": "markdown",
   "metadata": {},
   "source": [
    "There's probably a channel or two that got missed, but all of these look like they have slopes. Looking at the PSD y-axes, they don't look to be the same slope across all channels."
   ]
  },
  {
   "cell_type": "markdown",
   "metadata": {},
   "source": [
    "---\n",
    "### Fitting slopes to the  PSDs"
   ]
  },
  {
   "cell_type": "code",
   "execution_count": null,
   "metadata": {},
   "outputs": [],
   "source": [
    "mag = 29.0\n",
    "\n",
    "# save the slopes\n",
    "m_arr = []\n",
    "m_noise_arr = []\n",
    "m_full_arr = []\n",
    "\n",
    "for ch in active_ch:\n",
    "    #find all templates on that ccd channel\n",
    "    channelMask = (all_channels_df.channel == ch)\n",
    "    #pick the template lc that is closest in magnitude to our target on that specific channel\n",
    "    magnitudeMask = (np.abs(all_channels_df[channelMask].magnitude-mag)).idxmin()\n",
    "\n",
    "\n",
    "    temp_flux = np.array(all_channels_df.iloc[magnitudeMask][:-4])\n",
    "    temp_time = np.arange(len(temp_flux))/48.0 # converting to days, starting at zero\n",
    "    \n",
    "    # -----------------Calculate PSD-----------------\n",
    "    freq, power = LS_PSD(temp_time*86400, temp_flux, f = k2_freq)\n",
    "\n",
    "    # calculate slopes\n",
    "    m_full, b_full = np.polyfit(np.log10(freq), np.log10(power), 1)\n",
    "    \n",
    "    # -----------------calculate slopes for above and below noise floor-----------------\n",
    "    noise_floor_days = 5\n",
    "    # noise floor are freqencies > X days, convert to Hz\n",
    "    noise_floor_mask = freq>(2*np.pi/(noise_floor_days*86400))\n",
    "\n",
    "    m, b = np.polyfit(np.log10(freq)[~noise_floor_mask], np.log10(power)[~noise_floor_mask], 1)\n",
    "    m_noise, b_noise = np.polyfit(np.log10(freq)[noise_floor_mask], np.log10(power)[noise_floor_mask], 1)\n",
    "    \n",
    "    \n",
    "    fig, ax = plt.subplots(1,2, figsize=(9,3))\n",
    "\n",
    "    ax[0].plot(temp_time, temp_flux, ls='-', color='#34495e')\n",
    "    ax[1].set_ylabel(\"Flux\")\n",
    "    ax[1].set_xlabel(\"Time[days]\")\n",
    "    \n",
    "    ax[1].plot(freq, power,marker='.', ls='', color='#34495e', alpha=0.2,label=\"PSD\")\n",
    "    ax[1].plot(freq, 10**(np.log10(freq)*m_full+b_full), 'k--', linewidth=4, label=\"full fit slope=%.2f\"%m)\n",
    "    ax[1].plot(freq[~noise_floor_mask], 10**(np.log10(freq[~noise_floor_mask])*m+b), 'r-', linewidth=4, label=\"above noise floor fit slope=%.2f\"%m)\n",
    "    ax[1].plot(freq[noise_floor_mask], 10**(np.log10(freq[noise_floor_mask])*m_noise+b_noise), 'b-', linewidth=4, label=\"below noise floor fit slope=%.2f\"%m_noise)\n",
    "    ax[1].set_xscale('log')\n",
    "    ax[1].set_yscale('log')\n",
    "\n",
    "    ax[1].set_ylabel(\"power [$\\mathrm{ppm}^2/\\mathrm{Hz}$]\")\n",
    "    ax[1].set_xlabel(\"freqency[Hz]\")\n",
    "    ax[1].legend()\n",
    "    \n",
    "    fig.suptitle(\"Channel %s\"%(ch))\n",
    "    \n",
    "    #plt.savefig(\"/home/rachel/Research/K2/submit/PSD_slope_ex.png\")\n",
    "    \n",
    "    m_arr.append(m)\n",
    "    m_noise_arr.append(m_noise)\n",
    "    m_full_arr.append(m_full)\n"
   ]
  },
  {
   "cell_type": "code",
   "execution_count": null,
   "metadata": {},
   "outputs": [],
   "source": [
    "plt.hist(m_arr)\n",
    "plt.plot(np.ones(2)*np.median(m_arr), [0,20],'-')\n",
    "np.median(m_arr)"
   ]
  },
  {
   "cell_type": "code",
   "execution_count": null,
   "metadata": {},
   "outputs": [],
   "source": [
    "plt.hist(m_noise_arr)\n",
    "plt.plot(np.ones(2)*np.median(m_noise_arr), [0,20],'-')\n",
    "np.median(m_noise_arr)"
   ]
  },
  {
   "cell_type": "code",
   "execution_count": null,
   "metadata": {},
   "outputs": [],
   "source": [
    "plt.hist(m_full_arr)\n",
    "plt.plot(np.ones(2)*np.median(m_full_arr), [0,20],'-')\n",
    "np.median(m_full_arr)"
   ]
  },
  {
   "cell_type": "code",
   "execution_count": null,
   "metadata": {},
   "outputs": [],
   "source": []
  }
 ],
 "metadata": {
  "kernelspec": {
   "display_name": "Python 3",
   "language": "python",
   "name": "python3"
  },
  "language_info": {
   "codemirror_mode": {
    "name": "ipython",
    "version": 3
   },
   "file_extension": ".py",
   "mimetype": "text/x-python",
   "name": "python",
   "nbconvert_exporter": "python",
   "pygments_lexer": "ipython3",
   "version": "3.6.6"
  }
 },
 "nbformat": 4,
 "nbformat_minor": 2
}
