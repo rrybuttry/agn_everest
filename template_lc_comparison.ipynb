{
 "cells": [
  {
   "cell_type": "markdown",
   "metadata": {},
   "source": [
    "## Run cross-correlation between the template light curves and the observed data before/after EVEREST (K2 c8 channel 35)\n",
    "11 April 2019"
   ]
  },
  {
   "cell_type": "code",
   "execution_count": 16,
   "metadata": {},
   "outputs": [],
   "source": [
    "from analysis import *\n",
    "\n",
    "import everest \n",
    "\n",
    "import logging\n",
    "logging.getLogger(\"matplotlib\").setLevel(logging.WARNING)\n",
    "logging.getLogger(\"urllib3\").setLevel(logging.WARNING)"
   ]
  },
  {
   "cell_type": "code",
   "execution_count": 2,
   "metadata": {},
   "outputs": [],
   "source": [
    "agn_df = pd.read_csv(\"object_keys/c8_agn_w_redshift.csv\")\n",
    "\n",
    "# load in observed light curves\n",
    "agn = np.load('/home/rachel/Research/K2/c8_known_z_lc.npy')\n",
    "# load array containing spurious cadences masks\n",
    "agn_sc = np.load('/home/rachel/Research/K2/c8_known_z_spur_cad.npy').astype(bool) \n",
    "# load in gini coefficients\n",
    "agn_gini = np.load('/home/rachel/Research/K2/c8_known_z_gini.npy')\n",
    "\n",
    "# cut to agn in specific channel (35)\n",
    "ch35 = agn_df[agn_df['CHANNEL']==35]\n",
    "ch35_lc = agn[agn_df['CHANNEL']==35]\n",
    "ch35_sc = agn_sc[agn_df['CHANNEL']==35]\n",
    "ch35_gini = agn_gini[agn_df['CHANNEL']==35]"
   ]
  },
  {
   "cell_type": "code",
   "execution_count": 3,
   "metadata": {},
   "outputs": [],
   "source": [
    "# load template light curves\n",
    "mag_med_bin_edges = np.loadtxt(\"../template_lcs/magbinsC8M11.3.txt\")\n",
    "temp_diff = np.loadtxt(\"../template_lcs/template_diff_lc_C8M11.3.txt\")\n",
    "temp_med = np.loadtxt(\"../template_lcs/template_med_lc_C8M11.3.txt\")"
   ]
  },
  {
   "cell_type": "code",
   "execution_count": 11,
   "metadata": {},
   "outputs": [],
   "source": [
    "# arrays to save results in \n",
    "x_corr_med= np.zeros_like(np.array(ch35.magnitude))\n",
    "x_corr_dif = np.zeros_like(np.array(ch35.magnitude))\n",
    "\n",
    "# interpolate spurious cadences \n",
    "X = ch35_lc.copy()\n",
    "cadno = np.arange(X.shape[1]) # get an array to serve as our time/cadence measurement\n",
    "\n",
    "for index,lc in enumerate(X):\n",
    "    \n",
    "    # extract spurious cadences for given object\n",
    "    spurious_cad = ch35_sc[index] \n",
    "    \n",
    "    # interp spurious cadences to zero\n",
    "    interped_vals = np.interp(cadno[spurious_cad], cadno[~spurious_cad], lc[~spurious_cad])\n",
    "    # replace spurious cadence values with the interpolated values\n",
    "    lc[spurious_cad] = interped_vals\n",
    "    \n",
    "    #X[index] = lc\n",
    "    \n",
    "    # extract magnitude\n",
    "    mag = np.array(ch35.magnitude)[index]\n",
    "    \n",
    "    # calculate which magnitude bin object falls into\n",
    "    ind = np.where((mag - mag_med_bin_edges) < 0)[0][-1]\n",
    "\n",
    "    # extract proper template lc for that magnitude\n",
    "    template_lc_med = temp_med[:,ind]\n",
    "    template_lc_dif = temp_diff[:,ind]\n",
    "    \n",
    "    # calculate max X-corr\n",
    "    x_corr_med[index] = np.max(norm_xcorr(lc, template_lc_med))\n",
    "    x_corr_dif[index] = np.max(norm_xcorr(lc, template_lc_dif))"
   ]
  },
  {
   "cell_type": "code",
   "execution_count": 15,
   "metadata": {},
   "outputs": [
    {
     "data": {
      "text/plain": [
       "<matplotlib.legend.Legend at 0x7fdd8e3dbbe0>"
      ]
     },
     "execution_count": 15,
     "metadata": {},
     "output_type": "execute_result"
    },
    {
     "data": {
      "image/png": "[encoded data removed]",
      "text/plain": [
       "<Figure size 432x288 with 1 Axes>"
      ]
     },
     "metadata": {},
     "output_type": "display_data"
    }
   ],
   "source": [
    "plt.plot(ch35_gini, x_corr_med, 'o', label=\"median template\")\n",
    "plt.plot(ch35_gini, x_corr_dif, 'o', label=\"difference template\")\n",
    "plt.xlabel('gini coefficient')\n",
    "plt.ylabel('max X-corr with template lc')\n",
    "plt.title ('Raw light curves')\n",
    "plt.legend()"
   ]
  },
  {
   "cell_type": "markdown",
   "metadata": {},
   "source": [
    "Trying to find a relationship between the \"strength\" of the systematics and how extended a source is (how in-focus it appears). There is no clear relationship in these 8 data points.\n",
    "\n",
    "### Try it with the EVEREST lightcurves"
   ]
  },
  {
   "cell_type": "code",
   "execution_count": 33,
   "metadata": {},
   "outputs": [
    {
     "name": "stdout",
     "output_type": "stream",
     "text": [
      "INFO  [everest.user.DownloadFile()]: Found cached file.\n",
      "INFO  [everest.user.load_fits()]: Loading FITS file for 220212788.\n",
      "0\n",
      "INFO  [everest.user.DownloadFile()]: Found cached file.\n",
      "INFO  [everest.user.load_fits()]: Loading FITS file for 220212670.\n",
      "0\n",
      "INFO  [everest.user.DownloadFile()]: Found cached file.\n",
      "INFO  [everest.user.load_fits()]: Loading FITS file for 220220757.\n",
      "0\n",
      "INFO  [everest.user.DownloadFile()]: Found cached file.\n",
      "INFO  [everest.user.load_fits()]: Loading FITS file for 220221035.\n",
      "0\n",
      "INFO  [everest.user.DownloadFile()]: Found cached file.\n",
      "INFO  [everest.user.load_fits()]: Loading FITS file for 220192831.\n",
      "0\n",
      "INFO  [everest.user.DownloadFile()]: Found cached file.\n",
      "INFO  [everest.user.load_fits()]: Loading FITS file for 220216359.\n",
      "0\n"
     ]
    },
    {
     "ename": "ValueError",
     "evalue": "Invalid target ID.",
     "output_type": "error",
     "traceback": [
      "\u001b[0;31m---------------------------------------------------------------------------\u001b[0m",
      "\u001b[0;31mValueError\u001b[0m                                Traceback (most recent call last)",
      "\u001b[0;32m<ipython-input-33-dfd6870f7fa9>\u001b[0m in \u001b[0;36m<module>\u001b[0;34m()\u001b[0m\n\u001b[1;32m      5\u001b[0m \u001b[0mcampaign\u001b[0m \u001b[0;34m=\u001b[0m \u001b[0;36m8\u001b[0m\u001b[0;34m\u001b[0m\u001b[0m\n\u001b[1;32m      6\u001b[0m \u001b[0;32mfor\u001b[0m \u001b[0mindex\u001b[0m\u001b[0;34m,\u001b[0m\u001b[0mepic\u001b[0m \u001b[0;32min\u001b[0m \u001b[0menumerate\u001b[0m\u001b[0;34m(\u001b[0m\u001b[0mnp\u001b[0m\u001b[0;34m.\u001b[0m\u001b[0marray\u001b[0m\u001b[0;34m(\u001b[0m\u001b[0mch35\u001b[0m\u001b[0;34m[\u001b[0m\u001b[0;34m'EPIC ID'\u001b[0m\u001b[0;34m]\u001b[0m\u001b[0;34m)\u001b[0m\u001b[0;34m)\u001b[0m\u001b[0;34m:\u001b[0m\u001b[0;34m\u001b[0m\u001b[0m\n\u001b[0;32m----> 7\u001b[0;31m     \u001b[0mlc_everest\u001b[0m \u001b[0;34m=\u001b[0m \u001b[0meverest\u001b[0m\u001b[0;34m.\u001b[0m\u001b[0mEverest\u001b[0m\u001b[0;34m(\u001b[0m\u001b[0mepic\u001b[0m\u001b[0;34m)\u001b[0m\u001b[0;34m\u001b[0m\u001b[0m\n\u001b[0m\u001b[1;32m      8\u001b[0m \u001b[0;34m\u001b[0m\u001b[0m\n\u001b[1;32m      9\u001b[0m     \u001b[0;31m# sort flux by time\u001b[0m\u001b[0;34m\u001b[0m\u001b[0;34m\u001b[0m\u001b[0m\n",
      "\u001b[0;32m~/anaconda2/envs/py3/lib/python3.6/site-packages/everest/user.py\u001b[0m in \u001b[0;36m__init__\u001b[0;34m(self, ID, season, mission, quiet, clobber, cadence, **kwargs)\u001b[0m\n\u001b[1;32m    323\u001b[0m         self.fitsfile = DownloadFile(\n\u001b[1;32m    324\u001b[0m             \u001b[0mID\u001b[0m\u001b[0;34m,\u001b[0m \u001b[0mseason\u001b[0m\u001b[0;34m=\u001b[0m\u001b[0mseason\u001b[0m\u001b[0;34m,\u001b[0m \u001b[0mmission\u001b[0m\u001b[0;34m=\u001b[0m\u001b[0mmission\u001b[0m\u001b[0;34m,\u001b[0m \u001b[0mclobber\u001b[0m\u001b[0;34m=\u001b[0m\u001b[0mclobber\u001b[0m\u001b[0;34m,\u001b[0m\u001b[0;34m\u001b[0m\u001b[0m\n\u001b[0;32m--> 325\u001b[0;31m             cadence=cadence)\n\u001b[0m\u001b[1;32m    326\u001b[0m         \u001b[0mself\u001b[0m\u001b[0;34m.\u001b[0m\u001b[0mmodel_name\u001b[0m \u001b[0;34m=\u001b[0m \u001b[0mpyfits\u001b[0m\u001b[0;34m.\u001b[0m\u001b[0mgetheader\u001b[0m\u001b[0;34m(\u001b[0m\u001b[0mself\u001b[0m\u001b[0;34m.\u001b[0m\u001b[0mfitsfile\u001b[0m\u001b[0;34m,\u001b[0m \u001b[0;36m1\u001b[0m\u001b[0;34m)\u001b[0m\u001b[0;34m[\u001b[0m\u001b[0;34m'MODEL'\u001b[0m\u001b[0;34m]\u001b[0m\u001b[0;34m\u001b[0m\u001b[0m\n\u001b[1;32m    327\u001b[0m         \u001b[0mself\u001b[0m\u001b[0;34m.\u001b[0m\u001b[0m_weights\u001b[0m \u001b[0;34m=\u001b[0m \u001b[0;32mNone\u001b[0m\u001b[0;34m\u001b[0m\u001b[0m\n",
      "\u001b[0;32m~/anaconda2/envs/py3/lib/python3.6/site-packages/everest/user.py\u001b[0m in \u001b[0;36mDownloadFile\u001b[0;34m(ID, season, mission, cadence, filename, clobber)\u001b[0m\n\u001b[1;32m    162\u001b[0m                              % ID)\n\u001b[1;32m    163\u001b[0m         \u001b[0;32melse\u001b[0m\u001b[0;34m:\u001b[0m\u001b[0;34m\u001b[0m\u001b[0m\n\u001b[0;32m--> 164\u001b[0;31m             \u001b[0;32mraise\u001b[0m \u001b[0mValueError\u001b[0m\u001b[0;34m(\u001b[0m\u001b[0;34m'Invalid target ID.'\u001b[0m\u001b[0;34m)\u001b[0m\u001b[0;34m\u001b[0m\u001b[0m\n\u001b[0m\u001b[1;32m    165\u001b[0m     \u001b[0mpath\u001b[0m \u001b[0;34m=\u001b[0m \u001b[0mgetattr\u001b[0m\u001b[0;34m(\u001b[0m\u001b[0mmissions\u001b[0m\u001b[0;34m,\u001b[0m \u001b[0mmission\u001b[0m\u001b[0;34m)\u001b[0m\u001b[0;34m.\u001b[0m\u001b[0mTargetDirectory\u001b[0m\u001b[0;34m(\u001b[0m\u001b[0mID\u001b[0m\u001b[0;34m,\u001b[0m \u001b[0mseason\u001b[0m\u001b[0;34m)\u001b[0m\u001b[0;34m\u001b[0m\u001b[0m\n\u001b[1;32m    166\u001b[0m     relpath = getattr(missions, mission).TargetDirectory(\n",
      "\u001b[0;31mValueError\u001b[0m: Invalid target ID."
     ]
    }
   ],
   "source": [
    "# arrays to save results in \n",
    "x_corr_med_eve = np.zeros_like(np.array(ch35.magnitude))\n",
    "x_corr_dif_eve = np.zeros_like(np.array(ch35.magnitude))\n",
    "\n",
    "campaign = 8 \n",
    "for index,epic in enumerate(np.array(ch35['EPIC ID'])):\n",
    "    lc_everest = everest.Everest(epic, season=8)\n",
    "    \n",
    "    # sort flux by time \n",
    "    sorting = np.array(lc_everest.time[~lc_everest.mask]).argsort()\n",
    "    \n",
    "    # extract magnitude\n",
    "    mag = np.array(ch35.magnitude)[index]\n",
    "    \n",
    "    # calculate which magnitude bin object falls into\n",
    "    ind = np.where((mag - mag_med_bin_edges) < 0)[0][-1]\n",
    "\n",
    "    # extract proper template lc for that magnitude\n",
    "    template_lc_med = temp_med[:,ind]\n",
    "    template_lc_dif = temp_diff[:,ind]\n",
    "    \n",
    "    # calculate max X-corr\n",
    "    x_corr_med_eve[index] = np.max(norm_xcorr(lc_everest.flux[~lc_everest.mask][sorting], template_lc_med))\n",
    "    x_corr_dif_eve[index] = np.max(norm_xcorr(lc_everest.flux[~lc_everest.mask][sorting], template_lc_dif))"
   ]
  },
  {
   "cell_type": "code",
   "execution_count": 39,
   "metadata": {},
   "outputs": [
    {
     "data": {
      "text/plain": [
       "<matplotlib.legend.Legend at 0x7fdd836abda0>"
      ]
     },
     "execution_count": 39,
     "metadata": {},
     "output_type": "execute_result"
    },
    {
     "data": {
      "image/png": "[encoded data removed]",
      "text/plain": [
       "<Figure size 864x576 with 1 Axes>"
      ]
     },
     "metadata": {},
     "output_type": "display_data"
    }
   ],
   "source": [
    "sort = np.array(ch35_gini).argsort()\n",
    "\n",
    "plt.figure(figsize=(12,8))\n",
    "plt.plot(ch35_gini[sort], x_corr_med[sort], 'o', label=\"raw v. median template\", alpha=0.7)\n",
    "plt.plot(ch35_gini[sort], x_corr_dif[sort], 'o', label=\"raw v. difference template\", alpha=0.7)\n",
    "plt.plot(ch35_gini[sort], x_corr_med_eve[sort], 'o', label=\"pld v. median template\", alpha=0.7)\n",
    "plt.plot(ch35_gini[sort], x_corr_dif_eve[sort], 'o', label=\"pld v. difference template\", alpha=0.7)\n",
    "plt.xlabel('gini coefficient')\n",
    "plt.ylabel('max X-corr with template lc')\n",
    "plt.title ('Everest light curves')\n",
    "plt.legend()"
   ]
  },
  {
   "cell_type": "markdown",
   "metadata": {},
   "source": [
    "The two points that are at 0.0 for pld were not computed. Disregarding them, it there isn't a clear relationship from these 6 data points."
   ]
  },
  {
   "cell_type": "markdown",
   "metadata": {},
   "source": [
    "---\n",
    "### See Ed Shaya Galaxies \n",
    "\n",
    "Saved flux, time, mask, fluxerr (for raw flux) in a separate folder."
   ]
  },
  {
   "cell_type": "code",
   "execution_count": 51,
   "metadata": {},
   "outputs": [],
   "source": [
    "# create a random sample of Ed Shaya galaxies \n",
    "shaya_df = pd.read_csv(\"object_keys/c8_shaya.csv\")"
   ]
  },
  {
   "cell_type": "code",
   "execution_count": 66,
   "metadata": {},
   "outputs": [
    {
     "data": {
      "text/plain": [
       "[<matplotlib.lines.Line2D at 0x7fdd85420fd0>]"
      ]
     },
     "execution_count": 66,
     "metadata": {},
     "output_type": "execute_result"
    },
    {
     "data": {
      "image/png": "[encoded data removed]",
      "text/plain": [
       "<Figure size 864x576 with 1 Axes>"
      ]
     },
     "metadata": {},
     "output_type": "display_data"
    }
   ],
   "source": [
    "plt.figure(figsize=(12,8))\n",
    "plt.hist(np.array(shaya_df[\"CHANNEL\"]), bins=np.max(np.array(shaya_df[\"CHANNEL\"])))\n",
    "plt.plot([35,35],[0,80])"
   ]
  },
  {
   "cell_type": "markdown",
   "metadata": {},
   "source": [
    "**WELP it looks like channel 35 only has 15 shaya objects. We want atleast 50. **\n",
    "\n",
    "We need to look at either ch 13 (4 AGN, 66 shaya) or ch 81 (4 AGN, 53 shaya). Channel 13 seems to have clearer systematics than channel 81, so **we'll use 13.**"
   ]
  },
  {
   "cell_type": "code",
   "execution_count": 84,
   "metadata": {},
   "outputs": [
    {
     "data": {
      "text/plain": [
       "array([ 0, 20, 19, 18,  5,  6,  7,  8, 17, 76, 60, 73, 35, 65, 47, 46, 36,\n",
       "       57, 55, 71, 67, 61, 24, 62, 14, 43, 80, 42, 63, 21, 29, 66, 31, 79,\n",
       "       54, 58, 53, 22, 16, 59, 33, 52, 45, 30,  4, 26,  2, 23, 15, 72, 38,\n",
       "       41, 77, 51, 37, 28, 64, 69, 39, 82, 68, 32, 44, 84, 50, 40, 11,  3,\n",
       "       12,  1, 83, 75, 74, 78, 81, 48, 49, 70,  9, 27, 56, 25, 10, 34, 13])"
      ]
     },
     "execution_count": 84,
     "metadata": {},
     "output_type": "execute_result"
    }
   ],
   "source": [
    "np.bincount(np.array(shaya_df[\"CHANNEL\"])).argsort()"
   ]
  },
  {
   "cell_type": "code",
   "execution_count": 98,
   "metadata": {},
   "outputs": [
    {
     "data": {
      "text/plain": [
       "4"
      ]
     },
     "execution_count": 98,
     "metadata": {},
     "output_type": "execute_result"
    }
   ],
   "source": [
    "np.bincount(np.array(agn_df[\"CHANNEL\"]).astype(int))[13]"
   ]
  },
  {
   "cell_type": "code",
   "execution_count": 100,
   "metadata": {},
   "outputs": [
    {
     "data": {
      "text/plain": [
       "53"
      ]
     },
     "execution_count": 100,
     "metadata": {},
     "output_type": "execute_result"
    }
   ],
   "source": [
    "np.bincount(np.array(shaya_df[\"CHANNEL\"]))[81]"
   ]
  },
  {
   "cell_type": "code",
   "execution_count": 102,
   "metadata": {},
   "outputs": [],
   "source": [
    "# cut to channel 13\n",
    "shaya_ch = shaya_df[shaya_df[\"CHANNEL\"]==13]"
   ]
  },
  {
   "cell_type": "code",
   "execution_count": 104,
   "metadata": {},
   "outputs": [],
   "source": [
    "# save as a single \n",
    "shaya_ch.sample(50).to_csv(\"object_keys/c8_shaya_ch13_random50.csv\",index=False)"
   ]
  },
  {
   "cell_type": "code",
   "execution_count": 108,
   "metadata": {},
   "outputs": [
    {
     "name": "stdout",
     "output_type": "stream",
     "text": [
      "INFO  [everest.user.DownloadFile()]: Downloading the file...\n",
      "ERROR [everest.user.DownloadFile()]: Error code 0 for URL 'https://archive.stsci.edu/hlsps/everest/v2/c08/220200000/52492/hlsp_everest_k2_llc_220252492-c08_kepler_v2.0_lc.fits'\n"
     ]
    },
    {
     "ename": "Exception",
     "evalue": "Unable to locate the file.",
     "output_type": "error",
     "traceback": [
      "\u001b[0;31m---------------------------------------------------------------------------\u001b[0m",
      "\u001b[0;31mException\u001b[0m                                 Traceback (most recent call last)",
      "\u001b[0;32m<ipython-input-108-6a132c1b5c54>\u001b[0m in \u001b[0;36m<module>\u001b[0;34m()\u001b[0m\n\u001b[0;32m----> 1\u001b[0;31m \u001b[0meverest\u001b[0m\u001b[0;34m.\u001b[0m\u001b[0mEverest\u001b[0m\u001b[0;34m(\u001b[0m\u001b[0mnp\u001b[0m\u001b[0;34m.\u001b[0m\u001b[0marray\u001b[0m\u001b[0;34m(\u001b[0m\u001b[0mshaya_ch\u001b[0m\u001b[0;34m[\u001b[0m\u001b[0;34m'EPIC ID'\u001b[0m\u001b[0;34m]\u001b[0m\u001b[0;34m)\u001b[0m\u001b[0;34m[\u001b[0m\u001b[0;36m0\u001b[0m\u001b[0;34m]\u001b[0m\u001b[0;34m,\u001b[0m \u001b[0mseason\u001b[0m\u001b[0;34m=\u001b[0m\u001b[0;36m8\u001b[0m\u001b[0;34m)\u001b[0m\u001b[0;34m\u001b[0m\u001b[0m\n\u001b[0m",
      "\u001b[0;32m~/anaconda2/envs/py3/lib/python3.6/site-packages/everest/user.py\u001b[0m in \u001b[0;36m__init__\u001b[0;34m(self, ID, season, mission, quiet, clobber, cadence, **kwargs)\u001b[0m\n\u001b[1;32m    323\u001b[0m         self.fitsfile = DownloadFile(\n\u001b[1;32m    324\u001b[0m             \u001b[0mID\u001b[0m\u001b[0;34m,\u001b[0m \u001b[0mseason\u001b[0m\u001b[0;34m=\u001b[0m\u001b[0mseason\u001b[0m\u001b[0;34m,\u001b[0m \u001b[0mmission\u001b[0m\u001b[0;34m=\u001b[0m\u001b[0mmission\u001b[0m\u001b[0;34m,\u001b[0m \u001b[0mclobber\u001b[0m\u001b[0;34m=\u001b[0m\u001b[0mclobber\u001b[0m\u001b[0;34m,\u001b[0m\u001b[0;34m\u001b[0m\u001b[0m\n\u001b[0;32m--> 325\u001b[0;31m             cadence=cadence)\n\u001b[0m\u001b[1;32m    326\u001b[0m         \u001b[0mself\u001b[0m\u001b[0;34m.\u001b[0m\u001b[0mmodel_name\u001b[0m \u001b[0;34m=\u001b[0m \u001b[0mpyfits\u001b[0m\u001b[0;34m.\u001b[0m\u001b[0mgetheader\u001b[0m\u001b[0;34m(\u001b[0m\u001b[0mself\u001b[0m\u001b[0;34m.\u001b[0m\u001b[0mfitsfile\u001b[0m\u001b[0;34m,\u001b[0m \u001b[0;36m1\u001b[0m\u001b[0;34m)\u001b[0m\u001b[0;34m[\u001b[0m\u001b[0;34m'MODEL'\u001b[0m\u001b[0;34m]\u001b[0m\u001b[0;34m\u001b[0m\u001b[0m\n\u001b[1;32m    327\u001b[0m         \u001b[0mself\u001b[0m\u001b[0;34m.\u001b[0m\u001b[0m_weights\u001b[0m \u001b[0;34m=\u001b[0m \u001b[0;32mNone\u001b[0m\u001b[0;34m\u001b[0m\u001b[0m\n",
      "\u001b[0;32m~/anaconda2/envs/py3/lib/python3.6/site-packages/everest/user.py\u001b[0m in \u001b[0;36mDownloadFile\u001b[0;34m(ID, season, mission, cadence, filename, clobber)\u001b[0m\n\u001b[1;32m    211\u001b[0m         \u001b[0;31m# (development version only!)\u001b[0m\u001b[0;34m\u001b[0m\u001b[0;34m\u001b[0m\u001b[0m\n\u001b[1;32m    212\u001b[0m         \u001b[0;32mif\u001b[0m \u001b[0mEVEREST_FITS\u001b[0m \u001b[0;32mis\u001b[0m \u001b[0;32mNone\u001b[0m\u001b[0;34m:\u001b[0m\u001b[0;34m\u001b[0m\u001b[0m\n\u001b[0;32m--> 213\u001b[0;31m             \u001b[0;32mraise\u001b[0m \u001b[0mException\u001b[0m\u001b[0;34m(\u001b[0m\u001b[0;34m\"Unable to locate the file.\"\u001b[0m\u001b[0;34m)\u001b[0m\u001b[0;34m\u001b[0m\u001b[0m\n\u001b[0m\u001b[1;32m    214\u001b[0m \u001b[0;34m\u001b[0m\u001b[0m\n\u001b[1;32m    215\u001b[0m         \u001b[0;31m# Get the url\u001b[0m\u001b[0;34m\u001b[0m\u001b[0;34m\u001b[0m\u001b[0m\n",
      "\u001b[0;31mException\u001b[0m: Unable to locate the file."
     ]
    }
   ],
   "source": [
    "everest.Everest(np.array(shaya_ch['EPIC ID'])[0], season=8)"
   ]
  },
  {
   "cell_type": "code",
   "execution_count": null,
   "metadata": {},
   "outputs": [],
   "source": []
  }
 ],
 "metadata": {
  "kernelspec": {
   "display_name": "Python 3",
   "language": "python",
   "name": "python3"
  },
  "language_info": {
   "codemirror_mode": {
    "name": "ipython",
    "version": 3
   },
   "file_extension": ".py",
   "mimetype": "text/x-python",
   "name": "python",
   "nbconvert_exporter": "python",
   "pygments_lexer": "ipython3",
   "version": "3.6.6"
  }
 },
 "nbformat": 4,
 "nbformat_minor": 2
}
